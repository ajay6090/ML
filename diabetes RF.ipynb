{
 "cells": [
  {
   "cell_type": "code",
   "execution_count": 63,
   "id": "eecdf5a7-bb0d-4fb4-95dc-7780b15970f7",
   "metadata": {},
   "outputs": [],
   "source": [
    "from sklearn import datasets\n",
    "from sklearn.model_selection import train_test_split\n",
    "\n",
    "# Load dia dataset\n",
    "dia = datasets.load_diabetes()\n",
    "X = dia.data\n",
    "y = dia.target\n",
    "\n",
    "X_train, X_test, y_train, y_test = train_test_split(X, y, test_size=0.1, random_state=49)"
   ]
  },
  {
   "cell_type": "code",
   "execution_count": 65,
   "id": "eeb4b385-b1ee-4666-ab0b-cde5eee682a7",
   "metadata": {},
   "outputs": [
    {
     "name": "stdout",
     "output_type": "stream",
     "text": [
      "Training MSE: 507.00289265386806\n",
      "Testing MSE: 2047.5367078414092\n",
      "Training R^2: 0.915868886834753\n",
      "Testing R^2: 0.5968555323583362\n"
     ]
    }
   ],
   "source": [
    "from sklearn.ensemble import RandomForestRegressor\n",
    "from sklearn.metrics import mean_squared_error, r2_score\n",
    "# Initialize the Random Forest Regressor\n",
    "model = RandomForestRegressor(n_estimators=100, criterion='squared_error', max_depth=None, min_samples_split=2, min_samples_leaf=1, min_weight_fraction_leaf=0.0, max_features=None, max_leaf_nodes=None, min_impurity_decrease=0.1, bootstrap=True, oob_score=False, n_jobs=None, random_state=42, verbose=0, warm_start=False, ccp_alpha=0.0, max_samples=None, monotonic_cst=None)\n",
    "\n",
    "# Train the model\n",
    "model.fit(X_train, y_train)\n",
    "\n",
    "y_pred_train = model.predict(X_train)\n",
    "y_pred_test = model.predict(X_test)\n",
    "\n",
    "\n",
    "mse_train = mean_squared_error(y_train, y_pred_train)\n",
    "mse_test = mean_squared_error(y_test, y_pred_test)\n",
    "r2_train = r2_score(y_train, y_pred_train)\n",
    "r2_test = r2_score(y_test, y_pred_test)\n",
    "\n",
    "print(f'Training MSE: {mse_train}')\n",
    "print(f'Testing MSE: {mse_test}')\n",
    "print(f'Training R^2: {r2_train}')\n",
    "print(f'Testing R^2: {r2_test}')\n"
   ]
  },
  {
   "cell_type": "code",
   "execution_count": null,
   "id": "f97f9f52-0d0d-4279-a196-2c0741dd3af5",
   "metadata": {},
   "outputs": [],
   "source": []
  }
 ],
 "metadata": {
  "kernelspec": {
   "display_name": "Python 3 (ipykernel)",
   "language": "python",
   "name": "python3"
  },
  "language_info": {
   "codemirror_mode": {
    "name": "ipython",
    "version": 3
   },
   "file_extension": ".py",
   "mimetype": "text/x-python",
   "name": "python",
   "nbconvert_exporter": "python",
   "pygments_lexer": "ipython3",
   "version": "3.12.4"
  }
 },
 "nbformat": 4,
 "nbformat_minor": 5
}
