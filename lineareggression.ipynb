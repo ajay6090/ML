{
 "cells": [
  {
   "cell_type": "code",
   "execution_count": 21,
   "id": "d11adb88-d25a-4ff9-a38d-89ca0c0ff1d2",
   "metadata": {},
   "outputs": [],
   "source": [
    "from sklearn import datasets\n",
    "from sklearn.model_selection import train_test_split\n",
    "from sklearn.linear_model import LinearRegression\n",
    "from sklearn.metrics import mean_squared_error, r2_score\n",
    "\n",
    "# Load Iris dataset\n",
    "dia = datasets.load_diabetes()\n",
    "X = dia.data\n",
    "y = dia.target\n",
    "\n",
    "# Split data into train and test sets\n",
    "X_train, X_test, y_train, y_test = train_test_split(X, y, test_size=0.3, random_state=45)"
   ]
  },
  {
   "cell_type": "code",
   "execution_count": 23,
   "id": "c64be795-ad73-4ef8-916c-d43b1891d538",
   "metadata": {},
   "outputs": [
    {
     "name": "stdout",
     "output_type": "stream",
     "text": [
      " train Mean Squared Error: 3057.5833937033503\n",
      " test Mean Squared Error: 2492.6346427346502\n",
      "train R-squared: 0.5053633811526603\n",
      "test R-squared: 0.5326715876099555\n"
     ]
    }
   ],
   "source": [
    "\n",
    "# Initialize the Linear Regression model\n",
    "model = LinearRegression(fit_intercept=True)\n",
    "\n",
    "\n",
    "# Train the model\n",
    "model.fit(X_train, y_train)\n",
    "\n",
    "# Make predictions\n",
    "y_pred_test = model.predict(X_test)\n",
    "y_pred_train = model.predict(X_train)\n",
    "\n",
    "# Evaluate the model\n",
    "mse_train= mean_squared_error(y_train,y_pred_train)\n",
    "mse_test = mean_squared_error(y_test,y_pred_test)\n",
    "r2_train = r2_score(y_train,y_pred_train)\n",
    "r2_test = r2_score(y_test,y_pred_test)\n",
    "\n",
    "print(f' train Mean Squared Error: {mse_train}')\n",
    "print(f' test Mean Squared Error: {mse_test}')\n",
    "print(f'train R-squared: {r2_train}')\n",
    "print(f'test R-squared: {r2_test}')\n"
   ]
  },
  {
   "cell_type": "code",
   "execution_count": null,
   "id": "ea7dbcb0-399d-4400-9cda-3b5ddb50e2a0",
   "metadata": {},
   "outputs": [],
   "source": []
  },
  {
   "cell_type": "code",
   "execution_count": null,
   "id": "7f9dfd4c-64ed-43b1-8614-ab2b6773e06f",
   "metadata": {},
   "outputs": [],
   "source": []
  }
 ],
 "metadata": {
  "kernelspec": {
   "display_name": "Python 3 (ipykernel)",
   "language": "python",
   "name": "python3"
  },
  "language_info": {
   "codemirror_mode": {
    "name": "ipython",
    "version": 3
   },
   "file_extension": ".py",
   "mimetype": "text/x-python",
   "name": "python",
   "nbconvert_exporter": "python",
   "pygments_lexer": "ipython3",
   "version": "3.12.4"
  }
 },
 "nbformat": 4,
 "nbformat_minor": 5
}
