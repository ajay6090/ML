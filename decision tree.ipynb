{
 "cells": [
  {
   "cell_type": "code",
   "execution_count": 26,
   "id": "9949d289-e670-41a0-aed3-464c9981c05c",
   "metadata": {},
   "outputs": [],
   "source": [
    "from sklearn import datasets\n",
    "from sklearn.model_selection import train_test_split\n",
    "from sklearn.tree import DecisionTreeRegressor\n",
    "from sklearn.metrics import mean_squared_error, r2_score\n",
    "\n",
    "\n",
    "# Load Iris dataset\n",
    "dia = datasets.load_diabetes()\n",
    "X = dia.data\n",
    "y = dia.target\n",
    "\n",
    "# Split data into train and test sets\n",
    "X_train, X_test, y_train, y_test = train_test_split(X, y, test_size=0.2, random_state=42)"
   ]
  },
  {
   "cell_type": "code",
   "execution_count": 28,
   "id": "500ea377-a509-4d76-b3ef-fe30ae38f95b",
   "metadata": {},
   "outputs": [
    {
     "name": "stdout",
     "output_type": "stream",
     "text": [
      " train Mean Squared Error: 306.5547686496694\n",
      " test Mean Squared Error: 3879.9138576779033\n",
      "train R-squared: 0.9495499195420388\n",
      "test R-squared: 0.26768540392143025\n"
     ]
    }
   ],
   "source": [
    "\n",
    "\n",
    "# Initialize the Decision Tree model)\n",
    "model = DecisionTreeRegressor(max_depth=None, min_samples_leaf=2, min_samples_split=2)\n",
    "\n",
    "\n",
    "# Train the model\n",
    "model.fit(X_train, y_train)\n",
    "\n",
    "# Make predictions\n",
    "y_pred_test = model.predict(X_test)\n",
    "y_pred_train = model.predict(X_train)\n",
    "\n",
    "# Evaluate the model\n",
    "mse_train= mean_squared_error(y_train,y_pred_train)\n",
    "mse_test = mean_squared_error(y_test,y_pred_test)\n",
    "r2_train = r2_score(y_train,y_pred_train)\n",
    "r2_test = r2_score(y_test,y_pred_test)\n",
    "\n",
    "print(f' train Mean Squared Error: {mse_train}')\n",
    "print(f' test Mean Squared Error: {mse_test}')\n",
    "print(f'train R-squared: {r2_train}')\n",
    "print(f'test R-squared: {r2_test}')\n"
   ]
  },
  {
   "cell_type": "code",
   "execution_count": null,
   "id": "13d26103-4be0-4fbc-8809-903e3fff9edf",
   "metadata": {},
   "outputs": [],
   "source": []
  }
 ],
 "metadata": {
  "kernelspec": {
   "display_name": "Python 3 (ipykernel)",
   "language": "python",
   "name": "python3"
  },
  "language_info": {
   "codemirror_mode": {
    "name": "ipython",
    "version": 3
   },
   "file_extension": ".py",
   "mimetype": "text/x-python",
   "name": "python",
   "nbconvert_exporter": "python",
   "pygments_lexer": "ipython3",
   "version": "3.12.4"
  }
 },
 "nbformat": 4,
 "nbformat_minor": 5
}
